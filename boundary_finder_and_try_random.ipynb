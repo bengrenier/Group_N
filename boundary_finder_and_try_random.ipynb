{
 "cells": [
  {
   "cell_type": "markdown",
   "metadata": {},
   "source": [
    "Consider the diagram on the right, which shows an illustration of Monte Carlo integration. Given any integrable function (the line is one example) we can compute the area between f(x) and f=0 over the range x=[a,b] by filling the space with randomly drawn points over the domain x=[a,b], y=[c,d], computing the fraction of points below f(x), and then multiplying that fraction by (d-c)*(b-a).\n",
    "\n",
    "Final Project #4 Requirements\n",
    "\n",
    "1) Write a scheme to compute a Monte Carlo integral for any specified function. The integration scheme should take a defined function as a parameter, along with the domain limits x=[a,b]. The domain y=[c,d] should be determined for the function considered automatically.\n",
    "\n",
    "2) Engineer a method for specifying a tolerance for the Monte Carlo integration. Note this tolerance can refer to the absolute difference between two numerical estimates of the integral.\n",
    "\n",
    "3) Have the Monte Carlo integrator produce a plot of f(x) over the domain x=[a,b] and y=[c,d], and overplot the samples (as small colored dots, with points above and below the line f(x) as distinctive colors. Have the plot contain the answer to the integral as “F(a,b) = XXX” where XXX is the floating point answer. Make a legend for f(x), and the dots above and below f(x).\n",
    "\n",
    "4) Test your model on cos(x) over the domain x = [0,1.75]\n",
    "\n",
    "5) Extra Credit:Produce an animation of the Monte Carlo integration where each from adds more points to the panel discussed in 3). Add another panel that shows the estimated error of the integral as a function of the number of points."
   ]
  },
  {
   "cell_type": "code",
   "execution_count": null,
   "metadata": {},
   "outputs": [],
   "source": [
    "%matplotlib inline\n",
    "import numpy as np\n",
    "import matplotlib.pyplot as plt"
   ]
  },
  {
   "cell_type": "code",
   "execution_count": null,
   "metadata": {},
   "outputs": [],
   "source": [
    "def function(x):\n",
    "    return np.cos(x)"
   ]
  },
  {
   "cell_type": "code",
   "execution_count": null,
   "metadata": {},
   "outputs": [],
   "source": [
    "def function2(x):\n",
    "    return 2*x-4"
   ]
  },
  {
   "cell_type": "code",
   "execution_count": null,
   "metadata": {},
   "outputs": [],
   "source": [
    "def function3(x):\n",
    "    return x**2"
   ]
  },
  {
   "cell_type": "code",
   "execution_count": null,
   "metadata": {},
   "outputs": [],
   "source": [
    "def function4(x):\n",
    "    return np.tan(x)"
   ]
  },
  {
   "cell_type": "markdown",
   "metadata": {},
   "source": [
    "## ~Ethan: Boundary finder\n",
    "\n",
    "takes in a function and returns the minima and maxima in the y."
   ]
  },
  {
   "cell_type": "code",
   "execution_count": null,
   "metadata": {},
   "outputs": [],
   "source": [
    "def boundaryFinder(func):\n",
    "    y=func\n",
    "    ymin=y.min()\n",
    "    ymax=y.max()\n",
    "    for i in range(len(y)):\n",
    "        if(ymin>y[i]):\n",
    "            ymin=y[i]\n",
    "        elif(ymax<y[i]):\n",
    "            ymax=y[i]\n",
    "    if(ymin==y.min() and ymax==y.max()):\n",
    "        return ymin,ymax"
   ]
  },
  {
   "cell_type": "markdown",
   "metadata": {},
   "source": [
    "## ~Ethan: Generate Sample\n",
    "\n",
    "takes in the x and y bounds and the number of samples to generate randomly sampled points."
   ]
  },
  {
   "cell_type": "code",
   "execution_count": null,
   "metadata": {},
   "outputs": [],
   "source": [
    "def generateSample(a,b,n,ymin,ymax):\n",
    "    x=np.random.uniform(a,b,n)\n",
    "    y=np.random.uniform(ymin,ymax,n)\n",
    "    return x,y"
   ]
  },
  {
   "cell_type": "markdown",
   "metadata": {},
   "source": [
    "## ~Ethan: PlacePoints\n",
    "\n",
    "determines the position of the points on the plot in reference to the graph of the function. here the parameter func is one of the above defined functions, and that function takes the 'x' output of generateSample() as a parameter"
   ]
  },
  {
   "cell_type": "code",
   "execution_count": null,
   "metadata": {},
   "outputs": [],
   "source": [
    "def placePoints(y,func):\n",
    "    ir = np.where((y)<func)[0]\n",
    "    ur = np.where((y)>func)[0]\n",
    "    return ir,ur"
   ]
  },
  {
   "cell_type": "markdown",
   "metadata": {},
   "source": [
    "## ~Ethan: Compute Integral\n",
    "\n",
    "computes the value of the approximate integral based on the scheme provided by the assignment: compute the fraction of points below f(x), and then multiply that fraction by (d-c)*(b-a)."
   ]
  },
  {
   "cell_type": "code",
   "execution_count": null,
   "metadata": {},
   "outputs": [],
   "source": [
    "def computeIntegral(a,b,ymin,ymax,n,ir):\n",
    "    mf = (b-a)*(ymax-ymin) #mf is the factor that multiplies the\n",
    "    #fraction of points under the curve.\n",
    "    ans=mf*len(ir)/float(n)\n",
    "    return ans\n",
    "    "
   ]
  },
  {
   "cell_type": "markdown",
   "metadata": {},
   "source": [
    "## ~Ethan: Plotter\n",
    "\n",
    "Takes in the y boundaries as well as the x and y arrays output by generateSample() and the ir and ur arrays output by placePoints(). xf is an array generated using np.linspace(a,b,n) where is the lower bound in x, b the upper bound in x, and n is the number of samples. xf is used to set the x bounds, ymin and ymax set the y bounds"
   ]
  },
  {
   "cell_type": "code",
   "execution_count": null,
   "metadata": {},
   "outputs": [],
   "source": [
    "def plotter(xf,x,y,ymin,ymax,func,ir,ur):\n",
    "    fig = plt.figure(figsize=(7,7))\n",
    "    plt.xlim(xf[0],xf[-1])\n",
    "    plt.ylim([ymin,ymax])\n",
    "    plt.plot(x[ir],y[ir],'.',color='blue')\n",
    "    plt.plot(x[ur],y[ur],'.',color=\"0.75\")\n",
    "    yc = func\n",
    "    plt.plot(xf,yc,color='green')\n",
    "\n",
    "    plt.xlabel('x')\n",
    "    plt.ylabel('y')\n",
    "    plt.show()"
   ]
  },
  {
   "cell_type": "markdown",
   "metadata": {},
   "source": [
    "## ~Ethan: Monte Carlo\n",
    "\n",
    "Wrapper function for the defined processes"
   ]
  },
  {
   "cell_type": "code",
   "execution_count": null,
   "metadata": {},
   "outputs": [],
   "source": [
    "def monteCarlo(a,b,n,fn):\n",
    "    xf=np.linspace(a,b,n)\n",
    "    if(fn==1):\n",
    "        ymin,ymax=boundaryFinder(function(xf))\n",
    "        x,y=generateSample(a,b,n,ymin,ymax)\n",
    "        ir,ur=placePoints(y,function(x))\n",
    "        plotter(xf,x,y,ymin,ymax,function(xf),ir,ur)\n",
    "    elif(fn==2):\n",
    "        ymin,ymax=boundaryFinder(function2(xf))\n",
    "        x,y=generateSample(a,b,n,ymin,ymax)\n",
    "        ir,ur=placePoints(y,function2(x))\n",
    "        plotter(xf,x,y,ymin,ymax,function2(xf),ir,ur)\n",
    "    elif(fn==3):\n",
    "        ymin,ymax=boundaryFinder(function3(xf))\n",
    "        x,y=generateSample(a,b,n,ymin,ymax)\n",
    "        ir,ur=placePoints(y,function3(x))\n",
    "        plotter(xf,x,y,ymin,ymax,function3(xf),ir,ur)\n",
    "    elif(fn==4):\n",
    "        ymin,ymax=boundaryFinder(function4(xf))\n",
    "        x,y=generateSample(a,b,n,ymin,ymax)\n",
    "        ir,ur=placePoints(y,function4(x))\n",
    "        plotter(xf,x,y,ymin,ymax,function4(xf),ir,ur)\n",
    "    return computeIntegral(a,b,ymin,ymax,n,ir)"
   ]
  },
  {
   "cell_type": "code",
   "execution_count": null,
   "metadata": {},
   "outputs": [],
   "source": [
    "def monteCarloWrap(a,b,n,fn,tol,ex,imax):\n",
    "    i=0\n",
    "    ans=monteCarlo(a,b,n,fn)\n",
    "    N=n\n",
    "    while(abs(ex-ans)>tol and i<imax):\n",
    "        print(ans)\n",
    "        i+=1\n",
    "        N*=2\n",
    "        ans=monteCarlo(a,b,N,fn)\n",
    "    error=abs(ex-ans)\n",
    "    if(imax==i):\n",
    "        print(\"The maximum number of iterations has been reached\")\n",
    "    return ans,error\n",
    "        "
   ]
  },
  {
   "cell_type": "markdown",
   "metadata": {},
   "source": [
    "## ~Ethan: Test cases\n",
    "\n",
    "Just testing the above implemented functions to ensure they work"
   ]
  },
  {
   "cell_type": "code",
   "execution_count": null,
   "metadata": {},
   "outputs": [],
   "source": [
    "a1=0; b1=1.75; n=10000; tol=.05; ex1=0.983986; imax=10\n",
    "monteCarloWrap(a1,b1,n,1,tol,ex1,imax)\n",
    "#ymin1,ymax1=boundaryFinder(function(np.linspace(a1,b1,n)))\n",
    "#print(ymin1,ymax1)\n",
    "#xf=np.linspace(a1,b1,n)\n",
    "#x1,y1 = generateSample(a1,b1,n,ymin1,ymax1)\n",
    "#ir1,ur1 = placePoints(y1,function(x1))\n",
    "#plotter(xf,x1,y1,ymin1,ymax1,function(xf),ir1,ur1)\n",
    "#print(computeIntegral(a1,b1,ymin1,ymax1,n,ir1))\n",
    "\n",
    "#a2=a1; b2=5\n",
    "#xf2=np.linspace(a2,b2,n)\n",
    "#ymin2,ymax2=boundaryFinder(function2(xf2))\n",
    "#x2,y2 = generateSample(a2,b2,n,ymin2,ymax2)\n",
    "#ir2,ur2 = placePoints(y2,function2(x2))\n",
    "#plotter(xf2,x2,y2,ymin2,ymax2,function2(xf2),ir2,ur2)\n",
    "#print(computeIntegral(a2,b2,ymin2,ymax2,n,ir2))\n",
    "\n",
    "#a3=-5; b3=5\n",
    "#xf3=np.linspace(a3,b3,n)\n",
    "#ymin3,ymax3 = boundaryFinder(function3(xf3))\n",
    "#x3,y3 = generateSample(a3,b3,n,ymin3,ymax3)\n",
    "#ir3,ur3 = placePoints(y3,function3(x3))\n",
    "#plotter(xf3,x3,y3,ymin3,ymax3,function3(xf3),ir3,ur3)\n",
    "#print(computeIntegral(a3,b3,ymin3,ymax3,n,ir3))\n",
    "\n",
    "#a4=.5; b4=2\n",
    "#xf4=np.linspace(a4,b4,n)\n",
    "#ymin4,ymax4 = boundaryFinder(function4(xf4))\n",
    "#x4,y4 = generateSample(a4,b4,n,ymin4,ymax4)\n",
    "#ir4,ur4 = placePoints(y4,function4(x4))\n",
    "#plotter(xf4,x4,y4,ymin4,ymax4,function4(xf4),ir4,ur4)\n",
    "#print(computeIntegral(a4,b4,ymin4,ymax4,n,ir4))"
   ]
  },
  {
   "cell_type": "code",
   "execution_count": null,
   "metadata": {},
   "outputs": [],
   "source": [
    "ymin,ymax=boundaryFinder(function(np.linspace(0,1.75,10000)))\n",
    "x=np.random.uniform(0,1.75,10000)\n",
    "y=np.random.uniform(ymin,ymax,10000)\n",
    "ir = np.where((y)<function(x))[0]\n",
    "ur = np.where((y)>=function(x))[0]\n",
    "fig = plt.figure(figsize=(7,7))\n",
    "plt.xlim([0,1.75])\n",
    "plt.ylim([ymin,ymax])\n",
    "plt.plot(x[ir],y[ir],'.',color='blue')\n",
    "plt.plot(x[ur],y[ur],'.',color=\"0.75\")\n",
    "theta=np.linspace(0,2*np.pi,1000)\n",
    "xc = np.linspace(0,1.75,10000)\n",
    "yc = np.cos(xc)\n",
    "plt.plot(xc,yc,color='green')\n",
    "\n",
    "plt.xlabel('x')\n",
    "plt.ylabel('y')\n",
    "plt.show()"
   ]
  },
  {
   "cell_type": "code",
   "execution_count": null,
   "metadata": {},
   "outputs": [],
   "source": [
    "print(np.sin(1.75))"
   ]
  },
  {
   "cell_type": "code",
   "execution_count": null,
   "metadata": {},
   "outputs": [],
   "source": []
  }
 ],
 "metadata": {
  "kernelspec": {
   "display_name": "Python 3",
   "language": "python",
   "name": "python3"
  },
  "language_info": {
   "codemirror_mode": {
    "name": "ipython",
    "version": 3
   },
   "file_extension": ".py",
   "mimetype": "text/x-python",
   "name": "python",
   "nbconvert_exporter": "python",
   "pygments_lexer": "ipython3",
   "version": "3.7.0"
  }
 },
 "nbformat": 4,
 "nbformat_minor": 2
}
