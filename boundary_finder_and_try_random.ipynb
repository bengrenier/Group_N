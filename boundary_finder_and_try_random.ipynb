{
 "cells": [
  {
   "cell_type": "markdown",
   "metadata": {},
   "source": [
    "Consider the diagram on the right, which shows an illustration of Monte Carlo integration. Given any integrable function (the line is one example) we can compute the area between f(x) and f=0 over the range x=[a,b] by filling the space with randomly drawn points over the domain x=[a,b], y=[c,d], computing the fraction of points below f(x), and then multiplying that fraction by (d-c)*(b-a)."
   ]
  },
  {
   "cell_type": "code",
   "execution_count": null,
   "metadata": {},
   "outputs": [],
   "source": [
    "%matplotlib inline\n",
    "import numpy as np\n",
    "import matplotlib.pyplot as plt"
   ]
  },
  {
   "cell_type": "code",
   "execution_count": null,
   "metadata": {},
   "outputs": [],
   "source": [
    "def function(x):\n",
    "    return np.cos(x)"
   ]
  },
  {
   "cell_type": "code",
   "execution_count": null,
   "metadata": {},
   "outputs": [],
   "source": [
    "def function2(x):\n",
    "    return 2*x-4"
   ]
  },
  {
   "cell_type": "markdown",
   "metadata": {},
   "source": [
    "## ~Ethan: Boundary finder\n",
    "\n",
    "takes in a function and returns the minima and maxima in the y."
   ]
  },
  {
   "cell_type": "code",
   "execution_count": null,
   "metadata": {},
   "outputs": [],
   "source": [
    "def boundaryFinder(func):\n",
    "    y=func\n",
    "    ymin=y[0]\n",
    "    ymax=[-1]\n",
    "    for i in range(len(y)):\n",
    "        if(ymin>y[i]):\n",
    "            ymin=y[i]\n",
    "        elif(ymax<y[i]):\n",
    "            ymax=y[i]\n",
    "    return ymin,ymax"
   ]
  },
  {
   "cell_type": "markdown",
   "metadata": {},
   "source": [
    "## ~Ethan: Generate Sample\n",
    "\n",
    "takes in the x and y bounds and the number of samples to generate randomly sampled points."
   ]
  },
  {
   "cell_type": "code",
   "execution_count": null,
   "metadata": {},
   "outputs": [],
   "source": [
    "def generateSample(a,b,n,ymin,ymax):\n",
    "    x=np.random.uniform(a,b,n)\n",
    "    y=np.random.uniform(ymin,ymax,n)\n",
    "    return x,y"
   ]
  },
  {
   "cell_type": "markdown",
   "metadata": {},
   "source": [
    "## ~Ethan: PlacePoints\n",
    "\n",
    "determines the position of the points on the plot in reference to the graph of the function. here the parameter func is one of the above defined functions, and that function takes the 'x' output of generateSample() as a parameter"
   ]
  },
  {
   "cell_type": "code",
   "execution_count": null,
   "metadata": {},
   "outputs": [],
   "source": [
    "def placePoints(y,func):\n",
    "    ir = np.where((y)<func)[0]\n",
    "    ur = np.where((y)>=func)[0]\n",
    "    return ir,ur"
   ]
  },
  {
   "cell_type": "markdown",
   "metadata": {},
   "source": [
    "## ~Ethan: Plotter\n",
    "\n",
    "Takes in the y boundaries as well as the x and y arrays output by generateSample() and the ir and ur arrays output by placePoints(). xf is an array generated using np.linspace(a,b,n) where is the lower bound in x, b the upper bound in x, and n is the number of samples. xf is used to set the x bounds, ymin and ymax set the y bounds"
   ]
  },
  {
   "cell_type": "code",
   "execution_count": null,
   "metadata": {},
   "outputs": [],
   "source": [
    "def plotter(xf,x,y,ymin,ymax,func,ir,ur):\n",
    "    fig = plt.figure(figsize=(7,7))\n",
    "    plt.xlim(xf[0],xf[-1])\n",
    "    plt.ylim([ymin,ymax])\n",
    "    plt.plot(x[ir],y[ir],'.',color='blue')\n",
    "    plt.plot(x[ur],y[ur],'.',color=\"0.75\")\n",
    "    yc = func\n",
    "    plt.plot(xf,yc,color='green')\n",
    "\n",
    "    plt.xlabel('x')\n",
    "    plt.ylabel('y')\n",
    "    plt.show()"
   ]
  },
  {
   "cell_type": "markdown",
   "metadata": {},
   "source": [
    "## ~Ethan: Test cases\n",
    "\n",
    "Just testing the above implemented functions to ensure they work"
   ]
  },
  {
   "cell_type": "code",
   "execution_count": null,
   "metadata": {},
   "outputs": [],
   "source": [
    "ymin1,ymax1=boundaryFinder(function(np.linspace(0,1.75,10000)))\n",
    "xf=np.linspace(0,1.75,10000)\n",
    "x1,y1 = generateSample(0,1.75,10000,ymin1,ymax1)\n",
    "ir1,ur1 = placePoints(y1,function(x1))\n",
    "\n",
    "plotter(xf,x1,y1,ymin,ymax,function(xf),ir1,ur1)\n",
    "\n",
    "xf2=np.linspace(0,5,10000)\n",
    "ymin2,ymax2=boundaryFinder(function2(xf2))\n",
    "x2,y2 = generateSample(0,5,10000,ymin2,ymax2)\n",
    "ir2,ur2 = placePoints(y2,function2(x2))\n",
    "plotter(xf2,x2,y2,ymin2,ymax2,function2(xf2),ir2,ur2)"
   ]
  },
  {
   "cell_type": "code",
   "execution_count": null,
   "metadata": {},
   "outputs": [],
   "source": [
    "x=np.random.uniform(0,1.75,10000)\n",
    "y=np.random.uniform(ymin,ymax,10000)\n",
    "ir = np.where((y)<function(x))[0]\n",
    "ur = np.where((y)>=function(x))[0]\n",
    "fig = plt.figure(figsize=(7,7))\n",
    "plt.xlim([0,1.75])\n",
    "plt.ylim([ymin,ymax])\n",
    "plt.plot(x[ir],y[ir],'.',color='blue')\n",
    "plt.plot(x[ur],y[ur],'.',color=\"0.75\")\n",
    "theta=np.linspace(0,2*np.pi,1000)\n",
    "xc = np.linspace(0,1.75,10000)\n",
    "yc = np.cos(xc)\n",
    "plt.plot(xc,yc,color='green')\n",
    "\n",
    "plt.xlabel('x')\n",
    "plt.ylabel('y')\n",
    "plt.show()"
   ]
  },
  {
   "cell_type": "code",
   "execution_count": null,
   "metadata": {},
   "outputs": [],
   "source": []
  }
 ],
 "metadata": {
  "kernelspec": {
   "display_name": "Python 3",
   "language": "python",
   "name": "python3"
  },
  "language_info": {
   "codemirror_mode": {
    "name": "ipython",
    "version": 3
   },
   "file_extension": ".py",
   "mimetype": "text/x-python",
   "name": "python",
   "nbconvert_exporter": "python",
   "pygments_lexer": "ipython3",
   "version": "3.7.0"
  }
 },
 "nbformat": 4,
 "nbformat_minor": 2
}
