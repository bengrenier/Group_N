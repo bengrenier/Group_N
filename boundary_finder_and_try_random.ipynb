{
 "cells": [
  {
   "cell_type": "markdown",
   "metadata": {},
   "source": [
    "Consider the diagram on the right, which shows an illustration of Monte Carlo integration. Given any integrable function (the line is one example) we can compute the area between f(x) and f=0 over the range x=[a,b] by filling the space with randomly drawn points over the domain x=[a,b], y=[c,d], computing the fraction of points below f(x), and then multiplying that fraction by (d-c)*(b-a)."
   ]
  },
  {
   "cell_type": "code",
   "execution_count": null,
   "metadata": {},
   "outputs": [],
   "source": [
    "%matplotlib inline\n",
    "import numpy as np\n",
    "import matplotlib.pyplot as plt"
   ]
  },
  {
   "cell_type": "code",
   "execution_count": null,
   "metadata": {},
   "outputs": [],
   "source": [
    "def function(x):\n",
    "    return np.cos(x)"
   ]
  },
  {
   "cell_type": "code",
   "execution_count": null,
   "metadata": {},
   "outputs": [],
   "source": [
    "def otherFunction(x):\n",
    "    return 2*x-4"
   ]
  },
  {
   "cell_type": "code",
   "execution_count": null,
   "metadata": {},
   "outputs": [],
   "source": [
    "def boundaryFinder(func):\n",
    "    y=func\n",
    "    ymin=y[0]\n",
    "    ymax=[-1]\n",
    "    for i in range(len(y)):\n",
    "        if(ymin>y[i]):\n",
    "            ymin=y[i]\n",
    "        elif(ymax<y[i]):\n",
    "            ymax=y[i]\n",
    "    return ymin,ymax"
   ]
  },
  {
   "cell_type": "code",
   "execution_count": null,
   "metadata": {},
   "outputs": [],
   "source": [
    "def xlist(a,b,n):\n",
    "    return np.linspace(a,b,n)"
   ]
  },
  {
   "cell_type": "markdown",
   "metadata": {},
   "source": [
    "generate random samples"
   ]
  },
  {
   "cell_type": "code",
   "execution_count": null,
   "metadata": {},
   "outputs": [],
   "source": [
    "def genRanSam(a,b,n,ymin,ymax,func):\n",
    "    x=np.random.uniform(a,b,n)\n",
    "    y=np.random.uniform(ymin,ymax,n)\n",
    "    ir = np.where((y)<function(x))[0]\n",
    "    ur = np.where((y)>function(x))[0]\n",
    "    return x,y,ir,ur"
   ]
  },
  {
   "cell_type": "code",
   "execution_count": null,
   "metadata": {},
   "outputs": [],
   "source": [
    "ymin,ymax=boundaryFinder(function(np.linspace(0,1.75,10000)))\n",
    "x1,y1,ir1,ur1 =genRanSam(0,1.75,10000,ymin,ymax,function(x))\n",
    "x=np.random.uniform(0,1.75,10000)\n",
    "y=np.random.uniform(ymin,ymax,10000)"
   ]
  },
  {
   "cell_type": "code",
   "execution_count": null,
   "metadata": {},
   "outputs": [],
   "source": [
    "ir = np.where((y)<function(x))[0]\n",
    "ur = np.where((y)>=function(x))[0]"
   ]
  },
  {
   "cell_type": "code",
   "execution_count": null,
   "metadata": {},
   "outputs": [],
   "source": [
    "def plotter(xf,x,y,ymin,ymax,func,ir,ur):\n",
    "    fig = plt.figure(figsize=(7,7))\n",
    "    plt.xlim([0,1.75])\n",
    "    plt.ylim([ymin,ymax])\n",
    "    plt.plot(x[ir],y[ir],'.',color='blue')\n",
    "    plt.plot(x[ur],y[ur],'.',color=\"0.75\")\n",
    "    yc = func\n",
    "    plt.plot(xf,yc,color='green')\n",
    "\n",
    "    plt.xlabel('x')\n",
    "    plt.ylabel('y')\n",
    "    plt.show()"
   ]
  },
  {
   "cell_type": "code",
   "execution_count": null,
   "metadata": {},
   "outputs": [],
   "source": [
    "xf=np.linspace(0,1.75,10000)\n",
    "plotter(xf,x1,y1,ymin,ymax,function(xf),ir1,ur1)\n",
    "\n",
    "xf2=np.linspace(0,10,100000)\n",
    "ymin2,ymax2=boundaryFinder(otherFunction(xf2))\n",
    "x2,y2,ir2,ur2=genRanSam(0,10,100000,ymin2,ymax2,otherFunction(x))\n",
    "plotter(xf2,x2,y2,ymin2,ymax2,otherFunction(xf2),ir2,ur2)\n",
    "\n"
   ]
  },
  {
   "cell_type": "code",
   "execution_count": null,
   "metadata": {},
   "outputs": [],
   "source": [
    "fig = plt.figure(figsize=(7,7))\n",
    "plt.xlim([0,1.75])\n",
    "plt.ylim([ymin,ymax])\n",
    "plt.plot(x[ir],y[ir],'.',color='blue')\n",
    "plt.plot(x[ur],y[ur],'.',color=\"0.75\")\n",
    "theta=np.linspace(0,2*np.pi,1000)\n",
    "xc = xlist(0,1.75,10000)\n",
    "yc = np.cos(xc)\n",
    "plt.plot(xc,yc,color='green')\n",
    "\n",
    "plt.xlabel('x')\n",
    "plt.ylabel('y')\n",
    "plt.show()"
   ]
  },
  {
   "cell_type": "code",
   "execution_count": null,
   "metadata": {},
   "outputs": [],
   "source": []
  }
 ],
 "metadata": {
  "kernelspec": {
   "display_name": "Python 3",
   "language": "python",
   "name": "python3"
  },
  "language_info": {
   "codemirror_mode": {
    "name": "ipython",
    "version": 3
   },
   "file_extension": ".py",
   "mimetype": "text/x-python",
   "name": "python",
   "nbconvert_exporter": "python",
   "pygments_lexer": "ipython3",
   "version": "3.7.0"
  }
 },
 "nbformat": 4,
 "nbformat_minor": 2
}
