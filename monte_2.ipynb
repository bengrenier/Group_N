{
 "cells": [
  {
   "cell_type": "code",
   "execution_count": 39,
   "metadata": {},
   "outputs": [],
   "source": [
    "%matplotlib inline\n",
    "import numpy as np\n",
    "import matplotlib.pyplot as plt"
   ]
  },
  {
   "cell_type": "code",
   "execution_count": 40,
   "metadata": {},
   "outputs": [],
   "source": [
    "def function(x):\n",
    "    return(np.cos(x))"
   ]
  },
  {
   "cell_type": "code",
   "execution_count": 41,
   "metadata": {},
   "outputs": [],
   "source": [
    "xmin = 0\n",
    "xmax = 1.75\n",
    "n = 100000\n",
    "\n",
    "X=np.linspace(xmin,xmax,n)"
   ]
  },
  {
   "cell_type": "code",
   "execution_count": 42,
   "metadata": {},
   "outputs": [],
   "source": [
    "def boundaryFinder(func):\n",
    "    y=func\n",
    "    ymin=y[0]\n",
    "    ymax=[-1]\n",
    "    for i in range(len(y)):\n",
    "        if(ymin>y[i]):\n",
    "            ymin=y[i]\n",
    "        elif(ymax<y[i]):\n",
    "            ymax=y[i]\n",
    "    return ymin,ymax"
   ]
  },
  {
   "cell_type": "code",
   "execution_count": 43,
   "metadata": {},
   "outputs": [],
   "source": [
    "def integrate(xmin,xmax,tol):\n",
    "    yMin,yMax=boundaryFinder(function(X))\n",
    "    area=(xmax-xmin)*(yMax-yMin)\n",
    "    check=[]\n",
    "    xs=[]\n",
    "    ys=[]\n",
    "    for i in range(tol):\n",
    "        x=np.random.uniform(xmin,xmax,1)\n",
    "        xs.append(x)\n",
    "        y=np.random.uniform(yMin,yMax,1)\n",
    "        ys.append(y)\n",
    "        if abs(y)>abs(function(x)) or y<0:\n",
    "            check.append(0)\n",
    "        else:\n",
    "            check.append(1)\n",
    "    print(\"x boundaries\" , xmin,xmax, \"y boundaries\" , yMin,yMax)\n",
    "    return(np.mean(check)*area,xs,ys,check)"
   ]
  },
  {
   "cell_type": "code",
   "execution_count": 44,
   "metadata": {
    "scrolled": true
   },
   "outputs": [
    {
     "name": "stdout",
     "output_type": "stream",
     "text": [
      "x boundaries 0 1.75 y boundaries -0.17824605564949209 1.0\n",
      "1.0132533148617546\n"
     ]
    }
   ],
   "source": [
    "print(integrate(xmin,xmax,n)[0])"
   ]
  },
  {
   "cell_type": "code",
   "execution_count": 46,
   "metadata": {},
   "outputs": [
    {
     "name": "stdout",
     "output_type": "stream",
     "text": [
      "0.9839859468739369\n",
      "x boundaries 0 1.75 y boundaries -0.17824605564949209 1.0\n",
      "error =  0.026978625024718594\n"
     ]
    }
   ],
   "source": [
    "answer = np.sin(1.75) - np.sin(0)\n",
    "print(answer)\n",
    "error_monte = integrate(xmin,xmax,tol)[0] - answer\n",
    "print(\"error = \" ,error_monte)"
   ]
  }
 ],
 "metadata": {
  "kernelspec": {
   "display_name": "Python 3",
   "language": "python",
   "name": "python3"
  },
  "language_info": {
   "codemirror_mode": {
    "name": "ipython",
    "version": 3
   },
   "file_extension": ".py",
   "mimetype": "text/x-python",
   "name": "python",
   "nbconvert_exporter": "python",
   "pygments_lexer": "ipython3",
   "version": "3.6.5"
  }
 },
 "nbformat": 4,
 "nbformat_minor": 2
}
