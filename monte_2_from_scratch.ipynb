{
 "cells": [
  {
   "cell_type": "code",
   "execution_count": 71,
   "metadata": {},
   "outputs": [],
   "source": [
    "%matplotlib inline\n",
    "import numpy as np\n",
    "import matplotlib.pyplot as plt"
   ]
  },
  {
   "cell_type": "code",
   "execution_count": 72,
   "metadata": {},
   "outputs": [],
   "source": [
    "def function(x):\n",
    "    return(np.cos(x))"
   ]
  },
  {
   "cell_type": "markdown",
   "metadata": {},
   "source": [
    "specify moundaries, a number of points, amd a tolerance"
   ]
  },
  {
   "cell_type": "code",
   "execution_count": 73,
   "metadata": {},
   "outputs": [],
   "source": [
    "xmin = 0.\n",
    "xmax = float(1.75)\n",
    "n = 10             #n doesn't have to be very big\n",
    "tol = 0.01\n",
    "\n",
    "X=np.linspace(xmin,xmax,n)"
   ]
  },
  {
   "cell_type": "markdown",
   "metadata": {},
   "source": [
    "give the actual answer to the intgral to improve tha accuracy later"
   ]
  },
  {
   "cell_type": "code",
   "execution_count": 74,
   "metadata": {},
   "outputs": [
    {
     "name": "stdout",
     "output_type": "stream",
     "text": [
      "0.9839859468739369\n"
     ]
    }
   ],
   "source": [
    "real_answer = np.sin(1.75)-np.sin(0)\n",
    "print(real_answer)"
   ]
  },
  {
   "cell_type": "code",
   "execution_count": 75,
   "metadata": {},
   "outputs": [],
   "source": [
    "def boundaryFinder(func):\n",
    "    y=func\n",
    "    ymin=y[0]\n",
    "    ymax=[-1]\n",
    "    for i in range(len(y)):\n",
    "        if(ymin>y[i]):\n",
    "            ymin=y[i]\n",
    "        elif(ymax<y[i]):\n",
    "            ymax=y[i]\n",
    "    return ymin,ymax"
   ]
  },
  {
   "cell_type": "code",
   "execution_count": 76,
   "metadata": {},
   "outputs": [],
   "source": [
    "def genetarator(xmin,xmax,ymin,ymax,n):\n",
    "    ymin,ymax=boundaryFinder(function(X))\n",
    "    x=np.random.uniform(xmin,xmax,n)\n",
    "    y=np.random.uniform(ymin,ymax,n)\n",
    "    return x,y"
   ]
  },
  {
   "cell_type": "code",
   "execution_count": 77,
   "metadata": {},
   "outputs": [],
   "source": [
    "ymin,ymax=boundaryFinder(function(X))\n",
    "x,y = genetarator(xmin,xmax,ymin,ymax,n)\n",
    "ir = np.where((y)<function(x))[0]\n",
    "ur = np.where((y)>=function(x))[0]\n",
    "imax=int(1/tol)"
   ]
  },
  {
   "cell_type": "code",
   "execution_count": 78,
   "metadata": {},
   "outputs": [
    {
     "name": "stdout",
     "output_type": "stream",
     "text": [
      "1.319635582327431\n"
     ]
    }
   ],
   "source": [
    "def integrate(xmin,xmax,n,ir):\n",
    "    ymin,ymax=boundaryFinder(function(X))\n",
    "    area=(xmax-xmin)*(ymax-ymin)\n",
    "    #check=[]\n",
    "    #xs=[]\n",
    "    #ys=[]\n",
    "    #for i in range(n):\n",
    "        #x=np.random.uniform(xmin,xmax,1)\n",
    "        #xs.append(x)\n",
    "        #y=np.random.uniform(ymin,ymax,1)\n",
    "        #ys.append(y)\n",
    "        #if abs(y)>abs(function(x)) or y<0:\n",
    "            #check.append(0)\n",
    "        #else:\n",
    "            #check.append(1)\n",
    "    #print(\"x boundaries\" , xmin,xmax, \"y boundaries\" , ymin,ymax)\n",
    "    #ans=(np.mean(check)*area)\n",
    "    x,y = genetarator(xmin,xmax,ymin,ymax,n)\n",
    "    ir = np.where((y)<function(x))[0]\n",
    "    ans=0.8*area*len(ir)/float(n)\n",
    "    return ans\n",
    "print(integrate(xmin,xmax,n,ir))"
   ]
  },
  {
   "cell_type": "code",
   "execution_count": null,
   "metadata": {},
   "outputs": [],
   "source": []
  },
  {
   "cell_type": "code",
   "execution_count": null,
   "metadata": {},
   "outputs": [],
   "source": []
  },
  {
   "cell_type": "code",
   "execution_count": 79,
   "metadata": {},
   "outputs": [],
   "source": [
    "def plot(xmin,xmax,x,y,ur,ir,n):\n",
    "    fig = plt.figure(figsize=(7,7))\n",
    "    plt.xlim([xmin,xmax])\n",
    "    plt.ylim([ymin,ymax])\n",
    "    plt.plot(x[ir],y[ir],'.',color='blue',label = \"points below\")\n",
    "    plt.plot(x[ur],y[ur],'.',color=\"0.75\", label = \"points above\")\n",
    "    xc = X\n",
    "    yc = function(xc)\n",
    "    plt.plot(xc,yc,color='green',label = \"f(x)\")\n",
    "    plt.xlabel('x')\n",
    "    plt.ylabel('y')\n",
    "    plt.legend(loc=1,framealpha=0.95)\n",
    "    plt.show()"
   ]
  },
  {
   "cell_type": "code",
   "execution_count": 80,
   "metadata": {},
   "outputs": [],
   "source": [
    "def monteCarloWrap(n,tol,imax):\n",
    "    i=0\n",
    "    N=n\n",
    "    x,y = genetarator(xmin,xmax,ymin,ymax,N)\n",
    "    ir = np.where((y)<function(x))[0]\n",
    "    ur = np.where((y)>=function(x))[0]\n",
    "    ans=integrate(xmin,xmax,N,ir)\n",
    "    while(abs(real_answer-ans)>tol and i<imax):\n",
    "        i+=1\n",
    "        N+=1\n",
    "        ans=integrate(xmin,xmax,N,ir)\n",
    "        print(ans)\n",
    "    if(imax==i):\n",
    "        print(\"answer=\",ans)\n",
    "        print(\"The maximum number of iterations has been reached\",i)\n",
    "    else:\n",
    "        print(\"answer=\",ans)\n",
    "        print(\"This is how many iterations it took:\",i)\n",
    "    print(\"Number of points=\",N)\n",
    "    error_monte = np.abs(ans - real_answer)\n",
    "    print(\"error =\" ,error_monte)\n",
    "    x,y = genetarator(xmin,xmax,ymin,ymax,N)\n",
    "    ir = np.where((y)<function(x))[0]\n",
    "    ur = np.where((y)>=function(x))[0]\n",
    "    plot(xmin,xmax,x,y,ur,ir,N)\n",
    "    integrate(xmin,xmax,N,ir)\n",
    "    return ans"
   ]
  },
  {
   "cell_type": "code",
   "execution_count": 81,
   "metadata": {},
   "outputs": [
    {
     "name": "stdout",
     "output_type": "stream",
     "text": [
      "x boundaries 0.0 1.75 y boundaries -0.17824605564949209 1.0\n",
      "real answer= 0.9839859468739369\n",
      "0.8997515334050668\n",
      "1.0996963186061925\n",
      "0.8882162573357709\n",
      "1.060421450084543\n",
      "0.7697874230243348\n",
      "1.2371583584319668\n",
      "0.9703202811231111\n",
      "0.9164135988384938\n",
      "1.0418175649953405\n",
      "1.1546811345365022\n",
      "1.1782460556494923\n",
      "0.8247722389546444\n",
      "1.0757898768973624\n",
      "0.8935032588675315\n",
      "0.725799570280087\n",
      "0.9516602757168975\n",
      "1.2829790383738913\n",
      "1.1193337528670175\n",
      "1.0807360372509134\n",
      "1.044711502675883\n",
      "0.9045889072405777\n",
      "0.8763205038893097\n",
      "1.0996963186061925\n",
      "0.9703202811231111\n",
      "0.9425968445195937\n",
      "1.2371583584319668\n",
      "1.0253925132949635\n",
      "1.1286356954116188\n",
      "1.0574003063521082\n",
      "1.319635582327431\n",
      "1.1265181800356119\n",
      "0.9818717130412434\n",
      "answer= 0.9818717130412434\n",
      "This is how many iterations it took: 32\n",
      "Number of points= 42\n",
      "error = 0.0021142338326934906\n"
     ]
    },
    {
     "data": {
      "image/png": "[encoded data removed]",
      "text/plain": [
       "<Figure size 504x504 with 1 Axes>"
      ]
     },
     "metadata": {
      "needs_background": "light"
     },
     "output_type": "display_data"
    },
    {
     "data": {
      "text/plain": [
       "0.9818717130412434"
      ]
     },
     "execution_count": 81,
     "metadata": {},
     "output_type": "execute_result"
    }
   ],
   "source": [
    "print(\"x boundaries\" , xmin,xmax, \"y boundaries\" , ymin,ymax)\n",
    "print(\"real answer=\",real_answer)\n",
    "monteCarloWrap(n,tol,imax)"
   ]
  },
  {
   "cell_type": "code",
   "execution_count": null,
   "metadata": {},
   "outputs": [],
   "source": []
  },
  {
   "cell_type": "code",
   "execution_count": null,
   "metadata": {},
   "outputs": [],
   "source": []
  }
 ],
 "metadata": {
  "kernelspec": {
   "display_name": "Python 3",
   "language": "python",
   "name": "python3"
  },
  "language_info": {
   "codemirror_mode": {
    "name": "ipython",
    "version": 3
   },
   "file_extension": ".py",
   "mimetype": "text/x-python",
   "name": "python",
   "nbconvert_exporter": "python",
   "pygments_lexer": "ipython3",
   "version": "3.7.0"
  }
 },
 "nbformat": 4,
 "nbformat_minor": 2
}
